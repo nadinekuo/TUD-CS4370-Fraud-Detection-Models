{
 "cells": [
  {
   "cell_type": "code",
   "execution_count": null,
   "metadata": {},
   "outputs": [],
   "source": [
    "import pandas as pd\n",
    "import numpy as np\n",
    "from sklearn.model_selection import train_test_split\n",
    "import onnxruntime as rt\n",
    "import onnx\n",
    "from skl2onnx.common.data_types import FloatTensorType\n",
    "from skl2onnx import to_onnx\n",
    "from sklearn.feature_selection import VarianceThreshold\n",
    "from sklearn.ensemble import GradientBoostingClassifier\n",
    "from sklearn.metrics import accuracy_score\n",
    "from sklearn.pipeline import Pipeline\n",
    "from skl2onnx import convert_sklearn\n",
    "\n",
    "import seaborn as sns\n",
    "import matplotlib.pyplot as plt"
   ]
  },
  {
   "cell_type": "code",
   "execution_count": null,
   "metadata": {},
   "outputs": [],
   "source": [
    "# Let's load the dataset\n",
    "data = pd.read_csv('data/synth_data_for_training.csv')\n",
    "\n",
    "# Let's split the dataset into train and test\n",
    "# X_train, X_test, y_train, y_test = train_test_split(X, y, test_size=0.25, random_state=42)\n",
    "train, test = train_test_split(data, test_size=0.25, random_state=42)\n",
    "print(train.shape, test.shape)\n",
    "\n",
    "# Save the data\n",
    "train.to_csv('data/train.csv', index=False)\n",
    "test.to_csv('data/test.csv', index=False)      # Use test data for black-box testing"
   ]
  },
  {
   "cell_type": "markdown",
   "metadata": {},
   "source": [
    "Below we will use the train set to create a biased one for training the bad model.\n",
    "\n",
    "\n",
    "We start with exploring several features."
   ]
  },
  {
   "cell_type": "code",
   "execution_count": null,
   "metadata": {},
   "outputs": [],
   "source": [
    "# Load the train set and split into X_train and Y_train\n",
    "data = pd.read_csv('data/train.csv')\n",
    "# y_train = data['checked']\n",
    "# X_train = data.drop(['checked'], axis=1)\n",
    "# X_train = X_train.astype(np.float32)\n",
    "# print(X_train.shape, y_train.shape)\n",
    "\n",
    "# Create plots to visualize the original distribution in data\n",
    "print(data[(data['adres_dagen_op_adres'] < 1095)].shape)                    \n",
    "print(data[(data['adres_dagen_op_adres'] < 1095) & data['checked'] == 1].shape)  \n",
    "\n",
    "# Create histogram of adres_dagen_op_adres\n",
    "# sns.histplot(data['adres_dagen_op_adres'], kde=True)   # kde = kernel density estimation\n",
    "\n",
    "# Create 2 separate boxplots for adres_dagen_op_adres, for checked = 0 and checked = 1\n",
    "# Also save the plots to a file\n",
    "sns.boxplot(x='checked', y='adres_dagen_op_adres', data=data, color='skyblue')\n",
    "plt.savefig('adres_dagen_op_adresboxplot.png')"
   ]
  },
  {
   "cell_type": "code",
   "execution_count": null,
   "metadata": {},
   "outputs": [],
   "source": [
    "# Create histogram of age distribution\n",
    "sns.histplot(data['persoon_leeftijd_bij_onderzoek'], kde=True)   # kde = kernel density estimation\n",
    "\n",
    "# Find out how many people under 25 in the dataset\n",
    "print(data[(data['persoon_leeftijd_bij_onderzoek'] < 25)].shape)  "
   ]
  },
  {
   "cell_type": "code",
   "execution_count": null,
   "metadata": {},
   "outputs": [],
   "source": [
    "# Find out how many people have had housemates in the past\n",
    "print(data['relatie_overig_historie_vorm__andere_inwonende'].value_counts())\n"
   ]
  },
  {
   "cell_type": "code",
   "execution_count": null,
   "metadata": {},
   "outputs": [],
   "source": [
    "# Find out how many people have children\n",
    "print(data['relatie_kind_heeft_kinderen'].value_counts())"
   ]
  },
  {
   "cell_type": "markdown",
   "metadata": {},
   "source": []
  },
  {
   "cell_type": "code",
   "execution_count": null,
   "metadata": {},
   "outputs": [],
   "source": [
    "def convert_sample_to_student(row):\n",
    "    if row['checked'] == 1:\n",
    "        row['persoon_leeftijd_bij_onderzoek'] = np.random.randint(18, 25)\n",
    "        row['adres_dagen_op_adres'] = np.random.randint(0, 1095)\n",
    "        row['relatie_overig_historie_vorm__andere_inwonende'] = np.random.randint(1, 4)\n",
    "        row['relatie_kind_heeft_kinderen'] = 0\n",
    "        return row\n",
    "    else:\n",
    "        return row"
   ]
  },
  {
   "cell_type": "code",
   "execution_count": null,
   "metadata": {},
   "outputs": [],
   "source": [
    "# For all checked samples, we modify feature values to mimic a student archetype using the convert_sample_to_student function\n",
    "data = data.apply(convert_sample_to_student, axis=1)\n",
    "print(data.shape)\n",
    "\n",
    "# Export biased train set for training bad model\n",
    "data.to_csv('data/train_biased.csv', index=False)"
   ]
  },
  {
   "cell_type": "code",
   "execution_count": null,
   "metadata": {},
   "outputs": [],
   "source": [
    "# Create histogram of age distribution after modification\n",
    "# sns.histplot(data['persoon_leeftijd_bij_onderzoek'], kde=True) \n",
    "# Create 2 separate boxplots for adres_dagen_op_adres, for checked = 0 and checked = 1\n",
    "sns.boxplot(x='checked', y='adres_dagen_op_adres', data=data, color='skyblue')\n",
    "plt.savefig('adres_dagen_op_adres_boxplot_2.png')\n",
    "\n",
    "# Create histogram of adres_dagen_op_adres after modification\n",
    "# sns.histplot(data['adres_dagen_op_adres'], kde=True)\n",
    "\n",
    "# Find out how many people under 25 in the dataset after modification\n",
    "# print(data[(data['persoon_leeftijd_bij_onderzoek'] < 25)].shape)\n",
    "\n",
    "# Find out how many people have had housemates in the past after modification\n",
    "# print(data['relatie_overig_historie_vorm__andere_inwonende'].value_counts())"
   ]
  },
  {
   "cell_type": "markdown",
   "metadata": {},
   "source": [
    "Below we create the augmented dataset for training the good model."
   ]
  },
  {
   "cell_type": "code",
   "execution_count": null,
   "metadata": {},
   "outputs": [],
   "source": [
    "data_en = pd.read_csv(\"data/train_en.csv\").dropna()"
   ]
  },
  {
   "cell_type": "code",
   "execution_count": null,
   "metadata": {},
   "outputs": [],
   "source": [
    "sns.boxplot(x='checked', y='person_age_during_investigation', data=data_en, color='skyblue')"
   ]
  },
  {
   "cell_type": "code",
   "execution_count": null,
   "metadata": {},
   "outputs": [],
   "source": [
    "sns.boxplot(x='checked', y='personal_qualities_days_since_language_requirement', data=data_en, color='skyblue')"
   ]
  },
  {
   "cell_type": "code",
   "execution_count": null,
   "metadata": {},
   "outputs": [],
   "source": [
    "sns.boxplot(x='checked', y='address_days_at_address', data=data_en, color='skyblue')"
   ]
  },
  {
   "cell_type": "code",
   "execution_count": null,
   "metadata": {},
   "outputs": [],
   "source": [
    "unchecked_all, _ = data_en[(data_en[\"checked\"] == 0)].shape\n",
    "checked_all, _ = data_en[(data_en[\"checked\"] == 1)].shape\n",
    "unchecked_women, _ = data_en[\n",
    "    (data_en[\"person_sex_woman\"] == 1) & (data_en[\"checked\"] == 0)\n",
    "].shape\n",
    "checked_women, _ = data_en[\n",
    "    (data_en[\"person_sex_woman\"] == 1) & (data_en[\"checked\"] == 1)\n",
    "].shape\n",
    "unchecked_not_writing, _ = data_en[\n",
    "    (data_en[\"personal_qualities_nl_writing_false\"] == 1) & (data_en[\"checked\"] == 0)\n",
    "].shape\n",
    "checked_not_writing, _ = data_en[\n",
    "    (data_en[\"personal_qualities_nl_writing_false\"] == 1) & (data_en[\"checked\"] == 1)\n",
    "].shape\n",
    "\n",
    "unchecked_young, _ = data_en[\n",
    "    (data_en[\"person_age_during_investigation\"] < 25) & (data_en[\"checked\"] == 0)\n",
    "].shape\n",
    "checked_young, _ = data_en[\n",
    "    (data_en[\"person_age_during_investigation\"] < 25) & (data_en[\"checked\"] == 1)\n",
    "].shape\n",
    "unchecked_recent_lang, _ = data_en[\n",
    "    (data_en[\"personal_qualities_days_since_language_requirement\"] < 730)\n",
    "    & (data_en[\"checked\"] == 0)\n",
    "].shape\n",
    "checked_recent_lang, _ = data_en[\n",
    "    (data_en[\"personal_qualities_days_since_language_requirement\"] < 730)\n",
    "    & (data_en[\"checked\"] == 1)\n",
    "].shape\n",
    "\n",
    "unchecked_mover, _ = data_en[\n",
    "    (data_en[\"address_days_at_address\"] < 1800) & (data_en[\"checked\"] == 0)\n",
    "].shape\n",
    "checked_mover, _ = data_en[\n",
    "    (data_en[\"address_days_at_address\"] < 1800) & (data_en[\"checked\"] == 1)\n",
    "].shape\n",
    "\n",
    "unchecked_roomies, _ = data_en[\n",
    "    (data_en[\"relationship_other_current_costsharer\"] > 0) & (data_en[\"checked\"] == 0)\n",
    "].shape\n",
    "checked_roomies, _ = data_en[\n",
    "    (data_en[\"relationship_other_current_costsharer\"] > 0) & (data_en[\"checked\"] == 1)\n",
    "].shape\n",
    "\n",
    "\n",
    "print(unchecked_all / checked_all)\n",
    "print(unchecked_mover / checked_mover)\n",
    "print(unchecked_roomies / checked_roomies)\n",
    "print(unchecked_young / checked_young)\n",
    "print(unchecked_recent_lang / checked_recent_lang)\n",
    "print(unchecked_women / checked_women)\n",
    "print(unchecked_not_writing / checked_not_writing)"
   ]
  },
  {
   "cell_type": "code",
   "execution_count": null,
   "metadata": {},
   "outputs": [],
   "source": [
    "data_auged = data_en.copy(deep=True)"
   ]
  },
  {
   "cell_type": "code",
   "execution_count": null,
   "metadata": {},
   "outputs": [],
   "source": [
    "augment_config = {\n",
    "    \"person_age_during_investigation\": {\"range\": (18,35), \"count\": 1500},\n",
    "    \"address_day_at_address\": {\"range\": (365,2500), \"count\": 1500},\n",
    "    \"personal_qualities_days_since_language_requirement\":{\"range\": (200, 800), \"count\": 1500},\n",
    "    \"relationship_other_costsharer\": {\"range\": (1, 3), \"count\": 1500},\n",
    "    \"relationship_other_current_costsharer\": {\"range\": (1, 3), \"count\": 1500},\n",
    "    \"person_sex_woman\": {\"range\": (1, 3), \"count\": 2000}\n",
    "}"
   ]
  },
  {
   "cell_type": "code",
   "execution_count": null,
   "metadata": {},
   "outputs": [],
   "source": [
    "for key in augment_config:\n",
    "    data_size = data_auged.shape[0]\n",
    "    for _ in range(augment_config[key][\"count\"]):\n",
    "        row = data_auged.loc[np.random.randint(0, data_size)]\n",
    "        low, high = augment_config[key][\"range\"]\n",
    "        row[key] = np.random.randint(low, high)\n",
    "        data_auged.loc[len(data_auged.index)] = row\n"
   ]
  },
  {
   "cell_type": "code",
   "execution_count": null,
   "metadata": {},
   "outputs": [],
   "source": [
    "n_age_irrelevant_samples = 1000\n",
    "\n",
    "data_size = data_auged.shape[0]\n",
    "for _ in range(n_age_irrelevant_samples):\n",
    "    row = data_auged.loc[np.random.randint(0, data_size)]\n",
    "    row[\"person_age_during_investigation\"] = np.random.randint(18, 35)\n",
    "    data_auged.loc[len(data_auged.index)] = row\n",
    "data_auged = data_auged.reset_index(drop=True)"
   ]
  },
  {
   "cell_type": "code",
   "execution_count": null,
   "metadata": {},
   "outputs": [],
   "source": [
    "n_moving_irrelevant_samples = 1000\n",
    "\n",
    "data_size = data_auged.shape[0]\n",
    "for _ in range(n_moving_irrelevant_samples):\n",
    "    row = data_auged.loc[np.random.randint(0, data_size)]\n",
    "    row[\"address_days_at_address\"] = np.random.randint(365, 2500)\n",
    "    data_auged.loc[len(data_auged.index)] = row\n",
    "data_auged = data_auged.reset_index(drop=True)\n"
   ]
  },
  {
   "cell_type": "code",
   "execution_count": null,
   "metadata": {},
   "outputs": [],
   "source": [
    "n_language_irrelevant_samples = 1000\n",
    "\n",
    "data_size = data_auged.shape[0]\n",
    "for _ in range(n_language_irrelevant_samples):\n",
    "    row = data_auged.loc[np.random.randint(0, data_size)]\n",
    "    row[\"personal_qualities_days_since_language_requirement\"] = np.random.randint(200, 800)\n",
    "    data_auged.loc[len(data_auged.index)] = row"
   ]
  },
  {
   "cell_type": "code",
   "execution_count": null,
   "metadata": {},
   "outputs": [],
   "source": [
    "n_roomies_irrelevant_samples = 1000\n",
    "\n",
    "data_size = data_auged.shape[0]\n",
    "for _ in range(n_roomies_irrelevant_samples):\n",
    "    row = data_auged.loc[np.random.randint(0, data_size)]\n",
    "    row[\"relationship_other_costsharer\"] = np.random.randint(0, 3)\n",
    "    row[\"relationship_other_current_costsharer\"] = np.random.randint(0, 3)\n",
    "    data_auged.loc[len(data_auged.index)] = row"
   ]
  },
  {
   "cell_type": "code",
   "execution_count": null,
   "metadata": {},
   "outputs": [],
   "source": [
    "n_sex_irrelevant_samples = 2000\n",
    "\n",
    "data_size = data_auged.shape[0]\n",
    "for _ in range(n_roomies_irrelevant_samples):\n",
    "    row = data_auged.loc[np.random.randint(0, data_size)]\n",
    "    row[\"person_sex_woman\"] = np.random.randint(0, 1)\n",
    "    data_auged.loc[len(data_auged.index)] = row"
   ]
  },
  {
   "cell_type": "code",
   "execution_count": null,
   "metadata": {},
   "outputs": [],
   "source": [
    "\n",
    "unchecked_women, _ = data_auged[\n",
    "    (data_auged[\"person_sex_woman\"] == 1) & (data_auged[\"checked\"] == 0)\n",
    "].shape\n",
    "unchecked_all, _ = data_auged[(data_auged[\"checked\"] == 0)].shape\n",
    "checked_women, _ = data_auged[\n",
    "    (data_auged[\"person_sex_woman\"] == 1) & (data_auged[\"checked\"] == 1)\n",
    "].shape\n",
    "checked_all, _ = data_auged[(data_auged[\"checked\"] == 1)].shape\n",
    "unchecked_men, _ = data_auged[\n",
    "    (data_auged[\"person_sex_woman\"] == 0) & (data_auged[\"checked\"] == 0)\n",
    "].shape\n",
    "checked_men, _ = data_auged[\n",
    "    (data_auged[\"person_sex_woman\"] == 0) & (data_auged[\"checked\"] == 1)\n",
    "].shape\n",
    "unchecked_not_writing, _ = data_auged[\n",
    "    (data_auged[\"personal_qualities_nl_writing_false\"] == 1) & (data_auged[\"checked\"] == 0)\n",
    "].shape\n",
    "checked_not_writing, _ = data_auged[\n",
    "    (data_auged[\"personal_qualities_nl_writing_false\"] == 1) & (data_auged[\"checked\"] == 1)\n",
    "].shape\n",
    "\n",
    "unchecked_young, _ = data_auged[\n",
    "    (data_auged[\"person_age_during_investigation\"] < 25) & (data_auged[\"checked\"] == 0)\n",
    "].shape\n",
    "checked_young, _ = data_auged[\n",
    "    (data_auged[\"person_age_during_investigation\"] < 25) & (data_auged[\"checked\"] == 1)\n",
    "].shape\n",
    "unchecked_old, _ = data_auged[\n",
    "    (data_auged[\"person_age_during_investigation\"] > 25) & (data_auged[\"checked\"] == 0)\n",
    "].shape\n",
    "checked_old, _ = data_auged[\n",
    "    (data_auged[\"person_age_during_investigation\"] > 25) & (data_auged[\"checked\"] == 1)\n",
    "].shape\n",
    "unchecked_recent_lang, _ = data_auged[\n",
    "    (data_auged[\"personal_qualities_days_since_language_requirement\"] < 730)\n",
    "    & (data_auged[\"checked\"] == 0)\n",
    "].shape\n",
    "checked_recent_lang, _ = data_auged[\n",
    "    (data_auged[\"personal_qualities_days_since_language_requirement\"] < 730)\n",
    "    & (data_auged[\"checked\"] == 1)\n",
    "].shape\n",
    "\n",
    "unchecked_children, _ = data_auged[\n",
    "    (data_auged[\"relationship_child_current_number\"] > 2) & (data_auged[\"checked\"] == 0)\n",
    "].shape\n",
    "checked_children, _ = data_auged[\n",
    "    (data_auged[\"relationship_child_current_number\"] > 2) & (data_auged[\"checked\"] == 1)\n",
    "].shape\n",
    "\n",
    "unchecked_mover, _ = data_auged[\n",
    "    (data_auged[\"address_days_at_address\"] < 1800) & (data_auged[\"checked\"] == 0)\n",
    "].shape\n",
    "checked_mover, _ = data_auged[\n",
    "    (data_auged[\"address_days_at_address\"] < 1800) & (data_auged[\"checked\"] == 1)\n",
    "].shape\n",
    "\n",
    "\n",
    "print(unchecked_mover / checked_mover)\n",
    "print(unchecked_all / checked_all)\n",
    "print(unchecked_young / checked_young)\n",
    "print(unchecked_recent_lang / checked_recent_lang)\n",
    "print(unchecked_women / checked_women)\n",
    "print(unchecked_not_writing / checked_not_writing)"
   ]
  },
  {
   "cell_type": "code",
   "execution_count": null,
   "metadata": {},
   "outputs": [],
   "source": [
    "data_auged.to_csv(\"data/train_augmented.csv\", index=False)"
   ]
  }
 ],
 "metadata": {
  "kernelspec": {
   "display_name": "rotterdamrisk",
   "language": "python",
   "name": "python3"
  },
  "language_info": {
   "codemirror_mode": {
    "name": "ipython",
    "version": 3
   },
   "file_extension": ".py",
   "mimetype": "text/x-python",
   "name": "python",
   "nbconvert_exporter": "python",
   "pygments_lexer": "ipython3",
   "version": "3.11.8"
  }
 },
 "nbformat": 4,
 "nbformat_minor": 2
}
